{
 "cells": [
  {
   "cell_type": "code",
   "execution_count": 205,
   "id": "9bf94084-0962-41ca-b6ba-ffec69fe273c",
   "metadata": {},
   "outputs": [],
   "source": [
    "import tensorflow as tf\n",
    "import pandas as pd\n",
    "import numpy as np\n",
    "import matplotlib.pyplot as plt\n",
    "import os\n",
    "from keras.models import Sequential, load_model\n",
    "from keras.callbacks import EarlyStopping, ModelCheckpoint\n",
    "from keras import layers\n",
    "import keras.utils\n",
    "from sklearn.preprocessing import MinMaxScaler\n",
    "from sklearn.neighbors import KNeighborsClassifier\n",
    "from sklearn.datasets import fetch_openml\n",
    "from sklearn.model_selection import train_test_split"
   ]
  },
  {
   "cell_type": "code",
   "execution_count": 67,
   "id": "51b6d020-8bc9-42f9-b3e5-b48831342776",
   "metadata": {},
   "outputs": [
    {
     "data": {
      "text/html": [
       "<div>\n",
       "<style scoped>\n",
       "    .dataframe tbody tr th:only-of-type {\n",
       "        vertical-align: middle;\n",
       "    }\n",
       "\n",
       "    .dataframe tbody tr th {\n",
       "        vertical-align: top;\n",
       "    }\n",
       "\n",
       "    .dataframe thead th {\n",
       "        text-align: right;\n",
       "    }\n",
       "</style>\n",
       "<table border=\"1\" class=\"dataframe\">\n",
       "  <thead>\n",
       "    <tr style=\"text-align: right;\">\n",
       "      <th></th>\n",
       "      <th>label</th>\n",
       "      <th>pixel0</th>\n",
       "      <th>pixel1</th>\n",
       "      <th>pixel2</th>\n",
       "      <th>pixel3</th>\n",
       "      <th>pixel4</th>\n",
       "      <th>pixel5</th>\n",
       "      <th>pixel6</th>\n",
       "      <th>pixel7</th>\n",
       "      <th>pixel8</th>\n",
       "      <th>...</th>\n",
       "      <th>pixel774</th>\n",
       "      <th>pixel775</th>\n",
       "      <th>pixel776</th>\n",
       "      <th>pixel777</th>\n",
       "      <th>pixel778</th>\n",
       "      <th>pixel779</th>\n",
       "      <th>pixel780</th>\n",
       "      <th>pixel781</th>\n",
       "      <th>pixel782</th>\n",
       "      <th>pixel783</th>\n",
       "    </tr>\n",
       "  </thead>\n",
       "  <tbody>\n",
       "    <tr>\n",
       "      <th>0</th>\n",
       "      <td>1</td>\n",
       "      <td>0</td>\n",
       "      <td>0</td>\n",
       "      <td>0</td>\n",
       "      <td>0</td>\n",
       "      <td>0</td>\n",
       "      <td>0</td>\n",
       "      <td>0</td>\n",
       "      <td>0</td>\n",
       "      <td>0</td>\n",
       "      <td>...</td>\n",
       "      <td>0</td>\n",
       "      <td>0</td>\n",
       "      <td>0</td>\n",
       "      <td>0</td>\n",
       "      <td>0</td>\n",
       "      <td>0</td>\n",
       "      <td>0</td>\n",
       "      <td>0</td>\n",
       "      <td>0</td>\n",
       "      <td>0</td>\n",
       "    </tr>\n",
       "    <tr>\n",
       "      <th>1</th>\n",
       "      <td>0</td>\n",
       "      <td>0</td>\n",
       "      <td>0</td>\n",
       "      <td>0</td>\n",
       "      <td>0</td>\n",
       "      <td>0</td>\n",
       "      <td>0</td>\n",
       "      <td>0</td>\n",
       "      <td>0</td>\n",
       "      <td>0</td>\n",
       "      <td>...</td>\n",
       "      <td>0</td>\n",
       "      <td>0</td>\n",
       "      <td>0</td>\n",
       "      <td>0</td>\n",
       "      <td>0</td>\n",
       "      <td>0</td>\n",
       "      <td>0</td>\n",
       "      <td>0</td>\n",
       "      <td>0</td>\n",
       "      <td>0</td>\n",
       "    </tr>\n",
       "    <tr>\n",
       "      <th>2</th>\n",
       "      <td>1</td>\n",
       "      <td>0</td>\n",
       "      <td>0</td>\n",
       "      <td>0</td>\n",
       "      <td>0</td>\n",
       "      <td>0</td>\n",
       "      <td>0</td>\n",
       "      <td>0</td>\n",
       "      <td>0</td>\n",
       "      <td>0</td>\n",
       "      <td>...</td>\n",
       "      <td>0</td>\n",
       "      <td>0</td>\n",
       "      <td>0</td>\n",
       "      <td>0</td>\n",
       "      <td>0</td>\n",
       "      <td>0</td>\n",
       "      <td>0</td>\n",
       "      <td>0</td>\n",
       "      <td>0</td>\n",
       "      <td>0</td>\n",
       "    </tr>\n",
       "    <tr>\n",
       "      <th>3</th>\n",
       "      <td>4</td>\n",
       "      <td>0</td>\n",
       "      <td>0</td>\n",
       "      <td>0</td>\n",
       "      <td>0</td>\n",
       "      <td>0</td>\n",
       "      <td>0</td>\n",
       "      <td>0</td>\n",
       "      <td>0</td>\n",
       "      <td>0</td>\n",
       "      <td>...</td>\n",
       "      <td>0</td>\n",
       "      <td>0</td>\n",
       "      <td>0</td>\n",
       "      <td>0</td>\n",
       "      <td>0</td>\n",
       "      <td>0</td>\n",
       "      <td>0</td>\n",
       "      <td>0</td>\n",
       "      <td>0</td>\n",
       "      <td>0</td>\n",
       "    </tr>\n",
       "    <tr>\n",
       "      <th>4</th>\n",
       "      <td>0</td>\n",
       "      <td>0</td>\n",
       "      <td>0</td>\n",
       "      <td>0</td>\n",
       "      <td>0</td>\n",
       "      <td>0</td>\n",
       "      <td>0</td>\n",
       "      <td>0</td>\n",
       "      <td>0</td>\n",
       "      <td>0</td>\n",
       "      <td>...</td>\n",
       "      <td>0</td>\n",
       "      <td>0</td>\n",
       "      <td>0</td>\n",
       "      <td>0</td>\n",
       "      <td>0</td>\n",
       "      <td>0</td>\n",
       "      <td>0</td>\n",
       "      <td>0</td>\n",
       "      <td>0</td>\n",
       "      <td>0</td>\n",
       "    </tr>\n",
       "  </tbody>\n",
       "</table>\n",
       "<p>5 rows × 785 columns</p>\n",
       "</div>"
      ],
      "text/plain": [
       "   label  pixel0  pixel1  pixel2  pixel3  pixel4  pixel5  pixel6  pixel7  \\\n",
       "0      1       0       0       0       0       0       0       0       0   \n",
       "1      0       0       0       0       0       0       0       0       0   \n",
       "2      1       0       0       0       0       0       0       0       0   \n",
       "3      4       0       0       0       0       0       0       0       0   \n",
       "4      0       0       0       0       0       0       0       0       0   \n",
       "\n",
       "   pixel8  ...  pixel774  pixel775  pixel776  pixel777  pixel778  pixel779  \\\n",
       "0       0  ...         0         0         0         0         0         0   \n",
       "1       0  ...         0         0         0         0         0         0   \n",
       "2       0  ...         0         0         0         0         0         0   \n",
       "3       0  ...         0         0         0         0         0         0   \n",
       "4       0  ...         0         0         0         0         0         0   \n",
       "\n",
       "   pixel780  pixel781  pixel782  pixel783  \n",
       "0         0         0         0         0  \n",
       "1         0         0         0         0  \n",
       "2         0         0         0         0  \n",
       "3         0         0         0         0  \n",
       "4         0         0         0         0  \n",
       "\n",
       "[5 rows x 785 columns]"
      ]
     },
     "execution_count": 67,
     "metadata": {},
     "output_type": "execute_result"
    }
   ],
   "source": [
    "df = pd.read_csv(\"train.csv\")\n",
    "df.head()"
   ]
  },
  {
   "cell_type": "code",
   "execution_count": 68,
   "id": "a821057c-6eb0-4432-930f-27ac9262bbd3",
   "metadata": {},
   "outputs": [
    {
     "name": "stdout",
     "output_type": "stream",
     "text": [
      "<class 'pandas.core.frame.DataFrame'>\n",
      "RangeIndex: 42000 entries, 0 to 41999\n",
      "Columns: 785 entries, label to pixel783\n",
      "dtypes: int64(785)\n",
      "memory usage: 251.5 MB\n"
     ]
    }
   ],
   "source": [
    "df.info()"
   ]
  },
  {
   "cell_type": "code",
   "execution_count": 69,
   "id": "a33e739c-118e-4f18-870c-b691ef46afc3",
   "metadata": {},
   "outputs": [
    {
     "data": {
      "text/html": [
       "<div>\n",
       "<style scoped>\n",
       "    .dataframe tbody tr th:only-of-type {\n",
       "        vertical-align: middle;\n",
       "    }\n",
       "\n",
       "    .dataframe tbody tr th {\n",
       "        vertical-align: top;\n",
       "    }\n",
       "\n",
       "    .dataframe thead th {\n",
       "        text-align: right;\n",
       "    }\n",
       "</style>\n",
       "<table border=\"1\" class=\"dataframe\">\n",
       "  <thead>\n",
       "    <tr style=\"text-align: right;\">\n",
       "      <th></th>\n",
       "      <th>label</th>\n",
       "      <th>pixel0</th>\n",
       "      <th>pixel1</th>\n",
       "      <th>pixel2</th>\n",
       "      <th>pixel3</th>\n",
       "      <th>pixel4</th>\n",
       "      <th>pixel5</th>\n",
       "      <th>pixel6</th>\n",
       "      <th>pixel7</th>\n",
       "      <th>pixel8</th>\n",
       "      <th>...</th>\n",
       "      <th>pixel774</th>\n",
       "      <th>pixel775</th>\n",
       "      <th>pixel776</th>\n",
       "      <th>pixel777</th>\n",
       "      <th>pixel778</th>\n",
       "      <th>pixel779</th>\n",
       "      <th>pixel780</th>\n",
       "      <th>pixel781</th>\n",
       "      <th>pixel782</th>\n",
       "      <th>pixel783</th>\n",
       "    </tr>\n",
       "  </thead>\n",
       "  <tbody>\n",
       "    <tr>\n",
       "      <th>count</th>\n",
       "      <td>42000.000000</td>\n",
       "      <td>42000.0</td>\n",
       "      <td>42000.0</td>\n",
       "      <td>42000.0</td>\n",
       "      <td>42000.0</td>\n",
       "      <td>42000.0</td>\n",
       "      <td>42000.0</td>\n",
       "      <td>42000.0</td>\n",
       "      <td>42000.0</td>\n",
       "      <td>42000.0</td>\n",
       "      <td>...</td>\n",
       "      <td>42000.000000</td>\n",
       "      <td>42000.000000</td>\n",
       "      <td>42000.000000</td>\n",
       "      <td>42000.00000</td>\n",
       "      <td>42000.000000</td>\n",
       "      <td>42000.000000</td>\n",
       "      <td>42000.0</td>\n",
       "      <td>42000.0</td>\n",
       "      <td>42000.0</td>\n",
       "      <td>42000.0</td>\n",
       "    </tr>\n",
       "    <tr>\n",
       "      <th>mean</th>\n",
       "      <td>4.456643</td>\n",
       "      <td>0.0</td>\n",
       "      <td>0.0</td>\n",
       "      <td>0.0</td>\n",
       "      <td>0.0</td>\n",
       "      <td>0.0</td>\n",
       "      <td>0.0</td>\n",
       "      <td>0.0</td>\n",
       "      <td>0.0</td>\n",
       "      <td>0.0</td>\n",
       "      <td>...</td>\n",
       "      <td>0.219286</td>\n",
       "      <td>0.117095</td>\n",
       "      <td>0.059024</td>\n",
       "      <td>0.02019</td>\n",
       "      <td>0.017238</td>\n",
       "      <td>0.002857</td>\n",
       "      <td>0.0</td>\n",
       "      <td>0.0</td>\n",
       "      <td>0.0</td>\n",
       "      <td>0.0</td>\n",
       "    </tr>\n",
       "    <tr>\n",
       "      <th>std</th>\n",
       "      <td>2.887730</td>\n",
       "      <td>0.0</td>\n",
       "      <td>0.0</td>\n",
       "      <td>0.0</td>\n",
       "      <td>0.0</td>\n",
       "      <td>0.0</td>\n",
       "      <td>0.0</td>\n",
       "      <td>0.0</td>\n",
       "      <td>0.0</td>\n",
       "      <td>0.0</td>\n",
       "      <td>...</td>\n",
       "      <td>6.312890</td>\n",
       "      <td>4.633819</td>\n",
       "      <td>3.274488</td>\n",
       "      <td>1.75987</td>\n",
       "      <td>1.894498</td>\n",
       "      <td>0.414264</td>\n",
       "      <td>0.0</td>\n",
       "      <td>0.0</td>\n",
       "      <td>0.0</td>\n",
       "      <td>0.0</td>\n",
       "    </tr>\n",
       "    <tr>\n",
       "      <th>min</th>\n",
       "      <td>0.000000</td>\n",
       "      <td>0.0</td>\n",
       "      <td>0.0</td>\n",
       "      <td>0.0</td>\n",
       "      <td>0.0</td>\n",
       "      <td>0.0</td>\n",
       "      <td>0.0</td>\n",
       "      <td>0.0</td>\n",
       "      <td>0.0</td>\n",
       "      <td>0.0</td>\n",
       "      <td>...</td>\n",
       "      <td>0.000000</td>\n",
       "      <td>0.000000</td>\n",
       "      <td>0.000000</td>\n",
       "      <td>0.00000</td>\n",
       "      <td>0.000000</td>\n",
       "      <td>0.000000</td>\n",
       "      <td>0.0</td>\n",
       "      <td>0.0</td>\n",
       "      <td>0.0</td>\n",
       "      <td>0.0</td>\n",
       "    </tr>\n",
       "    <tr>\n",
       "      <th>25%</th>\n",
       "      <td>2.000000</td>\n",
       "      <td>0.0</td>\n",
       "      <td>0.0</td>\n",
       "      <td>0.0</td>\n",
       "      <td>0.0</td>\n",
       "      <td>0.0</td>\n",
       "      <td>0.0</td>\n",
       "      <td>0.0</td>\n",
       "      <td>0.0</td>\n",
       "      <td>0.0</td>\n",
       "      <td>...</td>\n",
       "      <td>0.000000</td>\n",
       "      <td>0.000000</td>\n",
       "      <td>0.000000</td>\n",
       "      <td>0.00000</td>\n",
       "      <td>0.000000</td>\n",
       "      <td>0.000000</td>\n",
       "      <td>0.0</td>\n",
       "      <td>0.0</td>\n",
       "      <td>0.0</td>\n",
       "      <td>0.0</td>\n",
       "    </tr>\n",
       "    <tr>\n",
       "      <th>50%</th>\n",
       "      <td>4.000000</td>\n",
       "      <td>0.0</td>\n",
       "      <td>0.0</td>\n",
       "      <td>0.0</td>\n",
       "      <td>0.0</td>\n",
       "      <td>0.0</td>\n",
       "      <td>0.0</td>\n",
       "      <td>0.0</td>\n",
       "      <td>0.0</td>\n",
       "      <td>0.0</td>\n",
       "      <td>...</td>\n",
       "      <td>0.000000</td>\n",
       "      <td>0.000000</td>\n",
       "      <td>0.000000</td>\n",
       "      <td>0.00000</td>\n",
       "      <td>0.000000</td>\n",
       "      <td>0.000000</td>\n",
       "      <td>0.0</td>\n",
       "      <td>0.0</td>\n",
       "      <td>0.0</td>\n",
       "      <td>0.0</td>\n",
       "    </tr>\n",
       "    <tr>\n",
       "      <th>75%</th>\n",
       "      <td>7.000000</td>\n",
       "      <td>0.0</td>\n",
       "      <td>0.0</td>\n",
       "      <td>0.0</td>\n",
       "      <td>0.0</td>\n",
       "      <td>0.0</td>\n",
       "      <td>0.0</td>\n",
       "      <td>0.0</td>\n",
       "      <td>0.0</td>\n",
       "      <td>0.0</td>\n",
       "      <td>...</td>\n",
       "      <td>0.000000</td>\n",
       "      <td>0.000000</td>\n",
       "      <td>0.000000</td>\n",
       "      <td>0.00000</td>\n",
       "      <td>0.000000</td>\n",
       "      <td>0.000000</td>\n",
       "      <td>0.0</td>\n",
       "      <td>0.0</td>\n",
       "      <td>0.0</td>\n",
       "      <td>0.0</td>\n",
       "    </tr>\n",
       "    <tr>\n",
       "      <th>max</th>\n",
       "      <td>9.000000</td>\n",
       "      <td>0.0</td>\n",
       "      <td>0.0</td>\n",
       "      <td>0.0</td>\n",
       "      <td>0.0</td>\n",
       "      <td>0.0</td>\n",
       "      <td>0.0</td>\n",
       "      <td>0.0</td>\n",
       "      <td>0.0</td>\n",
       "      <td>0.0</td>\n",
       "      <td>...</td>\n",
       "      <td>254.000000</td>\n",
       "      <td>254.000000</td>\n",
       "      <td>253.000000</td>\n",
       "      <td>253.00000</td>\n",
       "      <td>254.000000</td>\n",
       "      <td>62.000000</td>\n",
       "      <td>0.0</td>\n",
       "      <td>0.0</td>\n",
       "      <td>0.0</td>\n",
       "      <td>0.0</td>\n",
       "    </tr>\n",
       "  </tbody>\n",
       "</table>\n",
       "<p>8 rows × 785 columns</p>\n",
       "</div>"
      ],
      "text/plain": [
       "              label   pixel0   pixel1   pixel2   pixel3   pixel4   pixel5  \\\n",
       "count  42000.000000  42000.0  42000.0  42000.0  42000.0  42000.0  42000.0   \n",
       "mean       4.456643      0.0      0.0      0.0      0.0      0.0      0.0   \n",
       "std        2.887730      0.0      0.0      0.0      0.0      0.0      0.0   \n",
       "min        0.000000      0.0      0.0      0.0      0.0      0.0      0.0   \n",
       "25%        2.000000      0.0      0.0      0.0      0.0      0.0      0.0   \n",
       "50%        4.000000      0.0      0.0      0.0      0.0      0.0      0.0   \n",
       "75%        7.000000      0.0      0.0      0.0      0.0      0.0      0.0   \n",
       "max        9.000000      0.0      0.0      0.0      0.0      0.0      0.0   \n",
       "\n",
       "        pixel6   pixel7   pixel8  ...      pixel774      pixel775  \\\n",
       "count  42000.0  42000.0  42000.0  ...  42000.000000  42000.000000   \n",
       "mean       0.0      0.0      0.0  ...      0.219286      0.117095   \n",
       "std        0.0      0.0      0.0  ...      6.312890      4.633819   \n",
       "min        0.0      0.0      0.0  ...      0.000000      0.000000   \n",
       "25%        0.0      0.0      0.0  ...      0.000000      0.000000   \n",
       "50%        0.0      0.0      0.0  ...      0.000000      0.000000   \n",
       "75%        0.0      0.0      0.0  ...      0.000000      0.000000   \n",
       "max        0.0      0.0      0.0  ...    254.000000    254.000000   \n",
       "\n",
       "           pixel776     pixel777      pixel778      pixel779  pixel780  \\\n",
       "count  42000.000000  42000.00000  42000.000000  42000.000000   42000.0   \n",
       "mean       0.059024      0.02019      0.017238      0.002857       0.0   \n",
       "std        3.274488      1.75987      1.894498      0.414264       0.0   \n",
       "min        0.000000      0.00000      0.000000      0.000000       0.0   \n",
       "25%        0.000000      0.00000      0.000000      0.000000       0.0   \n",
       "50%        0.000000      0.00000      0.000000      0.000000       0.0   \n",
       "75%        0.000000      0.00000      0.000000      0.000000       0.0   \n",
       "max      253.000000    253.00000    254.000000     62.000000       0.0   \n",
       "\n",
       "       pixel781  pixel782  pixel783  \n",
       "count   42000.0   42000.0   42000.0  \n",
       "mean        0.0       0.0       0.0  \n",
       "std         0.0       0.0       0.0  \n",
       "min         0.0       0.0       0.0  \n",
       "25%         0.0       0.0       0.0  \n",
       "50%         0.0       0.0       0.0  \n",
       "75%         0.0       0.0       0.0  \n",
       "max         0.0       0.0       0.0  \n",
       "\n",
       "[8 rows x 785 columns]"
      ]
     },
     "execution_count": 69,
     "metadata": {},
     "output_type": "execute_result"
    }
   ],
   "source": [
    "df.describe()"
   ]
  },
  {
   "cell_type": "code",
   "execution_count": 70,
   "id": "43ef049d-c5d0-40d6-873b-c3e99c4422b7",
   "metadata": {},
   "outputs": [
    {
     "data": {
      "image/png": "[encoded data removed]",
      "text/plain": [
       "<Figure size 640x480 with 1 Axes>"
      ]
     },
     "metadata": {},
     "output_type": "display_data"
    }
   ],
   "source": [
    "category_counts = df['label'].value_counts()\n",
    "plt.bar(category_counts.index, category_counts.values)\n",
    "plt.xlabel('Dígito')\n",
    "plt.ylabel('Cantidad')\n",
    "plt.title('Conteo de imagenes por dígito')\n",
    "plt.show()"
   ]
  },
  {
   "cell_type": "code",
   "execution_count": 71,
   "id": "eb474793-9bb0-44ef-a59c-353014f40d6d",
   "metadata": {},
   "outputs": [
    {
     "data": {
      "image/png": "[encoded data removed]",
      "text/plain": [
       "<Figure size 640x480 with 1 Axes>"
      ]
     },
     "metadata": {},
     "output_type": "display_data"
    }
   ],
   "source": [
    "# extraer solo las imagenes\n",
    "df_images = df.drop(df.columns[0], axis=1)\n",
    "\n",
    "# Convertimos los valores a arreglos de numpy\n",
    "image_data = df_images.values\n",
    "\n",
    "# Como son imagenes cuadradas sacamos la raiz para determinar ancho y altura\n",
    "image_size = int(np.sqrt(image_data.shape[1]))\n",
    "\n",
    "# visualización de la primera imagen\n",
    "image_index = 0\n",
    "\n",
    "# convertimos las imagenes en matrices cuadradras con .reshape(W, H)\n",
    "image = image_data[image_index].reshape(image_size, image_size)\n",
    "\n",
    "# Desplegamos la imagen\n",
    "plt.imshow(image, cmap=plt.cm.gray)  # Assuming grayscale images\n",
    "plt.title(f'Image {image_index}')\n",
    "plt.axis('off')\n",
    "plt.show()"
   ]
  },
  {
   "cell_type": "code",
   "execution_count": 72,
   "id": "7ecb015a-f02f-457d-b983-a5a379299314",
   "metadata": {},
   "outputs": [
    {
     "data": {
      "image/png": "[encoded data removed]",
      "text/plain": [
       "<Figure size 1200x600 with 16 Axes>"
      ]
     },
     "metadata": {},
     "output_type": "display_data"
    }
   ],
   "source": [
    "num_rows = 4\n",
    "num_cols = 4\n",
    "\n",
    "plt.figure(figsize=(12, 6))\n",
    "\n",
    "for i in range(num_rows * num_cols):\n",
    "    plt.subplot(num_rows, num_cols, i + 1)\n",
    "    image = image_data[i].reshape(image_size, image_size)\n",
    "    plt.imshow(image, cmap='gray')\n",
    "    plt.axis('off')\n",
    "    plt.title(f'Imagen {i}')\n",
    "\n",
    "plt.tight_layout()\n",
    "plt.show()"
   ]
  },
  {
   "cell_type": "code",
   "execution_count": 73,
   "id": "0e117160-06d6-4b0d-8000-e410b9eed8c3",
   "metadata": {},
   "outputs": [
    {
     "data": {
      "image/png": "[encoded data removed]",
      "text/plain": [
       "<Figure size 1200x600 with 16 Axes>"
      ]
     },
     "metadata": {},
     "output_type": "display_data"
    }
   ],
   "source": [
    "plt.figure(figsize=(12, 6))\n",
    "\n",
    "for i in range(41984, 42000):\n",
    "    plt.subplot(4, 4, i - 41983)\n",
    "    image = image_data[i].reshape(image_size, image_size)\n",
    "    plt.imshow(image, cmap='gray')\n",
    "    plt.axis('off')\n",
    "    plt.title(f'Imagen {i}')\n",
    "\n",
    "plt.tight_layout()\n",
    "plt.show()"
   ]
  },
  {
   "cell_type": "code",
   "execution_count": 74,
   "id": "5fd123e5-fe96-4f8e-b65a-d818d096eb61",
   "metadata": {},
   "outputs": [
    {
     "data": {
      "text/plain": [
       "(   pixel0  pixel1  pixel2  pixel3  pixel4  pixel5  pixel6  pixel7  pixel8  \\\n",
       " 0       0       0       0       0       0       0       0       0       0   \n",
       " 1       0       0       0       0       0       0       0       0       0   \n",
       " 2       0       0       0       0       0       0       0       0       0   \n",
       " 3       0       0       0       0       0       0       0       0       0   \n",
       " 4       0       0       0       0       0       0       0       0       0   \n",
       " \n",
       "    pixel9  ...  pixel774  pixel775  pixel776  pixel777  pixel778  pixel779  \\\n",
       " 0       0  ...         0         0         0         0         0         0   \n",
       " 1       0  ...         0         0         0         0         0         0   \n",
       " 2       0  ...         0         0         0         0         0         0   \n",
       " 3       0  ...         0         0         0         0         0         0   \n",
       " 4       0  ...         0         0         0         0         0         0   \n",
       " \n",
       "    pixel780  pixel781  pixel782  pixel783  \n",
       " 0         0         0         0         0  \n",
       " 1         0         0         0         0  \n",
       " 2         0         0         0         0  \n",
       " 3         0         0         0         0  \n",
       " 4         0         0         0         0  \n",
       " \n",
       " [5 rows x 784 columns],\n",
       " (42000, 784))"
      ]
     },
     "execution_count": 74,
     "metadata": {},
     "output_type": "execute_result"
    }
   ],
   "source": [
    "X_train = df.iloc[:,1:]\n",
    "X_train.head(), X_train.shape"
   ]
  },
  {
   "cell_type": "code",
   "execution_count": 75,
   "id": "4bb97dc1-558d-41eb-9616-cce81578b692",
   "metadata": {},
   "outputs": [
    {
     "data": {
      "text/plain": [
       "(0    1\n",
       " 1    0\n",
       " 2    1\n",
       " 3    4\n",
       " 4    0\n",
       " Name: label, dtype: int64,\n",
       " (42000,))"
      ]
     },
     "execution_count": 75,
     "metadata": {},
     "output_type": "execute_result"
    }
   ],
   "source": [
    "y_train = df.iloc[:,0]\n",
    "y_train.head(), y_train.shape"
   ]
  },
  {
   "cell_type": "code",
   "execution_count": 91,
   "id": "dd2ac589-aab9-4d3b-9e91-5c99e8edec8a",
   "metadata": {},
   "outputs": [
    {
     "data": {
      "text/html": [
       "<div>\n",
       "<style scoped>\n",
       "    .dataframe tbody tr th:only-of-type {\n",
       "        vertical-align: middle;\n",
       "    }\n",
       "\n",
       "    .dataframe tbody tr th {\n",
       "        vertical-align: top;\n",
       "    }\n",
       "\n",
       "    .dataframe thead th {\n",
       "        text-align: right;\n",
       "    }\n",
       "</style>\n",
       "<table border=\"1\" class=\"dataframe\">\n",
       "  <thead>\n",
       "    <tr style=\"text-align: right;\">\n",
       "      <th></th>\n",
       "      <th>pixel0</th>\n",
       "      <th>pixel1</th>\n",
       "      <th>pixel2</th>\n",
       "      <th>pixel3</th>\n",
       "      <th>pixel4</th>\n",
       "      <th>pixel5</th>\n",
       "      <th>pixel6</th>\n",
       "      <th>pixel7</th>\n",
       "      <th>pixel8</th>\n",
       "      <th>pixel9</th>\n",
       "      <th>...</th>\n",
       "      <th>pixel774</th>\n",
       "      <th>pixel775</th>\n",
       "      <th>pixel776</th>\n",
       "      <th>pixel777</th>\n",
       "      <th>pixel778</th>\n",
       "      <th>pixel779</th>\n",
       "      <th>pixel780</th>\n",
       "      <th>pixel781</th>\n",
       "      <th>pixel782</th>\n",
       "      <th>pixel783</th>\n",
       "    </tr>\n",
       "  </thead>\n",
       "  <tbody>\n",
       "    <tr>\n",
       "      <th>0</th>\n",
       "      <td>0</td>\n",
       "      <td>0</td>\n",
       "      <td>0</td>\n",
       "      <td>0</td>\n",
       "      <td>0</td>\n",
       "      <td>0</td>\n",
       "      <td>0</td>\n",
       "      <td>0</td>\n",
       "      <td>0</td>\n",
       "      <td>0</td>\n",
       "      <td>...</td>\n",
       "      <td>0</td>\n",
       "      <td>0</td>\n",
       "      <td>0</td>\n",
       "      <td>0</td>\n",
       "      <td>0</td>\n",
       "      <td>0</td>\n",
       "      <td>0</td>\n",
       "      <td>0</td>\n",
       "      <td>0</td>\n",
       "      <td>0</td>\n",
       "    </tr>\n",
       "    <tr>\n",
       "      <th>1</th>\n",
       "      <td>0</td>\n",
       "      <td>0</td>\n",
       "      <td>0</td>\n",
       "      <td>0</td>\n",
       "      <td>0</td>\n",
       "      <td>0</td>\n",
       "      <td>0</td>\n",
       "      <td>0</td>\n",
       "      <td>0</td>\n",
       "      <td>0</td>\n",
       "      <td>...</td>\n",
       "      <td>0</td>\n",
       "      <td>0</td>\n",
       "      <td>0</td>\n",
       "      <td>0</td>\n",
       "      <td>0</td>\n",
       "      <td>0</td>\n",
       "      <td>0</td>\n",
       "      <td>0</td>\n",
       "      <td>0</td>\n",
       "      <td>0</td>\n",
       "    </tr>\n",
       "    <tr>\n",
       "      <th>2</th>\n",
       "      <td>0</td>\n",
       "      <td>0</td>\n",
       "      <td>0</td>\n",
       "      <td>0</td>\n",
       "      <td>0</td>\n",
       "      <td>0</td>\n",
       "      <td>0</td>\n",
       "      <td>0</td>\n",
       "      <td>0</td>\n",
       "      <td>0</td>\n",
       "      <td>...</td>\n",
       "      <td>0</td>\n",
       "      <td>0</td>\n",
       "      <td>0</td>\n",
       "      <td>0</td>\n",
       "      <td>0</td>\n",
       "      <td>0</td>\n",
       "      <td>0</td>\n",
       "      <td>0</td>\n",
       "      <td>0</td>\n",
       "      <td>0</td>\n",
       "    </tr>\n",
       "    <tr>\n",
       "      <th>3</th>\n",
       "      <td>0</td>\n",
       "      <td>0</td>\n",
       "      <td>0</td>\n",
       "      <td>0</td>\n",
       "      <td>0</td>\n",
       "      <td>0</td>\n",
       "      <td>0</td>\n",
       "      <td>0</td>\n",
       "      <td>0</td>\n",
       "      <td>0</td>\n",
       "      <td>...</td>\n",
       "      <td>0</td>\n",
       "      <td>0</td>\n",
       "      <td>0</td>\n",
       "      <td>0</td>\n",
       "      <td>0</td>\n",
       "      <td>0</td>\n",
       "      <td>0</td>\n",
       "      <td>0</td>\n",
       "      <td>0</td>\n",
       "      <td>0</td>\n",
       "    </tr>\n",
       "    <tr>\n",
       "      <th>4</th>\n",
       "      <td>0</td>\n",
       "      <td>0</td>\n",
       "      <td>0</td>\n",
       "      <td>0</td>\n",
       "      <td>0</td>\n",
       "      <td>0</td>\n",
       "      <td>0</td>\n",
       "      <td>0</td>\n",
       "      <td>0</td>\n",
       "      <td>0</td>\n",
       "      <td>...</td>\n",
       "      <td>0</td>\n",
       "      <td>0</td>\n",
       "      <td>0</td>\n",
       "      <td>0</td>\n",
       "      <td>0</td>\n",
       "      <td>0</td>\n",
       "      <td>0</td>\n",
       "      <td>0</td>\n",
       "      <td>0</td>\n",
       "      <td>0</td>\n",
       "    </tr>\n",
       "  </tbody>\n",
       "</table>\n",
       "<p>5 rows × 784 columns</p>\n",
       "</div>"
      ],
      "text/plain": [
       "   pixel0  pixel1  pixel2  pixel3  pixel4  pixel5  pixel6  pixel7  pixel8  \\\n",
       "0       0       0       0       0       0       0       0       0       0   \n",
       "1       0       0       0       0       0       0       0       0       0   \n",
       "2       0       0       0       0       0       0       0       0       0   \n",
       "3       0       0       0       0       0       0       0       0       0   \n",
       "4       0       0       0       0       0       0       0       0       0   \n",
       "\n",
       "   pixel9  ...  pixel774  pixel775  pixel776  pixel777  pixel778  pixel779  \\\n",
       "0       0  ...         0         0         0         0         0         0   \n",
       "1       0  ...         0         0         0         0         0         0   \n",
       "2       0  ...         0         0         0         0         0         0   \n",
       "3       0  ...         0         0         0         0         0         0   \n",
       "4       0  ...         0         0         0         0         0         0   \n",
       "\n",
       "   pixel780  pixel781  pixel782  pixel783  \n",
       "0         0         0         0         0  \n",
       "1         0         0         0         0  \n",
       "2         0         0         0         0  \n",
       "3         0         0         0         0  \n",
       "4         0         0         0         0  \n",
       "\n",
       "[5 rows x 784 columns]"
      ]
     },
     "execution_count": 91,
     "metadata": {},
     "output_type": "execute_result"
    }
   ],
   "source": [
    "df_test = pd.read_csv('test.csv')\n",
    "df_test.head()"
   ]
  },
  {
   "cell_type": "code",
   "execution_count": 92,
   "id": "34d6cb97-7e9b-4277-9645-67d0fff966b8",
   "metadata": {},
   "outputs": [
    {
     "name": "stdout",
     "output_type": "stream",
     "text": [
      "<class 'pandas.core.frame.DataFrame'>\n",
      "RangeIndex: 28000 entries, 0 to 27999\n",
      "Columns: 784 entries, pixel0 to pixel783\n",
      "dtypes: int64(784)\n",
      "memory usage: 167.5 MB\n"
     ]
    }
   ],
   "source": [
    "df_test.info()"
   ]
  },
  {
   "cell_type": "code",
   "execution_count": 93,
   "id": "22d771ba-c446-4294-b29b-9db665cc7648",
   "metadata": {},
   "outputs": [
    {
     "data": {
      "text/html": [
       "<div>\n",
       "<style scoped>\n",
       "    .dataframe tbody tr th:only-of-type {\n",
       "        vertical-align: middle;\n",
       "    }\n",
       "\n",
       "    .dataframe tbody tr th {\n",
       "        vertical-align: top;\n",
       "    }\n",
       "\n",
       "    .dataframe thead th {\n",
       "        text-align: right;\n",
       "    }\n",
       "</style>\n",
       "<table border=\"1\" class=\"dataframe\">\n",
       "  <thead>\n",
       "    <tr style=\"text-align: right;\">\n",
       "      <th></th>\n",
       "      <th>pixel0</th>\n",
       "      <th>pixel1</th>\n",
       "      <th>pixel2</th>\n",
       "      <th>pixel3</th>\n",
       "      <th>pixel4</th>\n",
       "      <th>pixel5</th>\n",
       "      <th>pixel6</th>\n",
       "      <th>pixel7</th>\n",
       "      <th>pixel8</th>\n",
       "      <th>pixel9</th>\n",
       "      <th>...</th>\n",
       "      <th>pixel774</th>\n",
       "      <th>pixel775</th>\n",
       "      <th>pixel776</th>\n",
       "      <th>pixel777</th>\n",
       "      <th>pixel778</th>\n",
       "      <th>pixel779</th>\n",
       "      <th>pixel780</th>\n",
       "      <th>pixel781</th>\n",
       "      <th>pixel782</th>\n",
       "      <th>pixel783</th>\n",
       "    </tr>\n",
       "  </thead>\n",
       "  <tbody>\n",
       "    <tr>\n",
       "      <th>count</th>\n",
       "      <td>28000.0</td>\n",
       "      <td>28000.0</td>\n",
       "      <td>28000.0</td>\n",
       "      <td>28000.0</td>\n",
       "      <td>28000.0</td>\n",
       "      <td>28000.0</td>\n",
       "      <td>28000.0</td>\n",
       "      <td>28000.0</td>\n",
       "      <td>28000.0</td>\n",
       "      <td>28000.0</td>\n",
       "      <td>...</td>\n",
       "      <td>28000.000000</td>\n",
       "      <td>28000.000000</td>\n",
       "      <td>28000.000000</td>\n",
       "      <td>28000.000000</td>\n",
       "      <td>28000.000000</td>\n",
       "      <td>28000.0</td>\n",
       "      <td>28000.0</td>\n",
       "      <td>28000.0</td>\n",
       "      <td>28000.0</td>\n",
       "      <td>28000.0</td>\n",
       "    </tr>\n",
       "    <tr>\n",
       "      <th>mean</th>\n",
       "      <td>0.0</td>\n",
       "      <td>0.0</td>\n",
       "      <td>0.0</td>\n",
       "      <td>0.0</td>\n",
       "      <td>0.0</td>\n",
       "      <td>0.0</td>\n",
       "      <td>0.0</td>\n",
       "      <td>0.0</td>\n",
       "      <td>0.0</td>\n",
       "      <td>0.0</td>\n",
       "      <td>...</td>\n",
       "      <td>0.164607</td>\n",
       "      <td>0.073214</td>\n",
       "      <td>0.028036</td>\n",
       "      <td>0.011250</td>\n",
       "      <td>0.006536</td>\n",
       "      <td>0.0</td>\n",
       "      <td>0.0</td>\n",
       "      <td>0.0</td>\n",
       "      <td>0.0</td>\n",
       "      <td>0.0</td>\n",
       "    </tr>\n",
       "    <tr>\n",
       "      <th>std</th>\n",
       "      <td>0.0</td>\n",
       "      <td>0.0</td>\n",
       "      <td>0.0</td>\n",
       "      <td>0.0</td>\n",
       "      <td>0.0</td>\n",
       "      <td>0.0</td>\n",
       "      <td>0.0</td>\n",
       "      <td>0.0</td>\n",
       "      <td>0.0</td>\n",
       "      <td>0.0</td>\n",
       "      <td>...</td>\n",
       "      <td>5.473293</td>\n",
       "      <td>3.616811</td>\n",
       "      <td>1.813602</td>\n",
       "      <td>1.205211</td>\n",
       "      <td>0.807475</td>\n",
       "      <td>0.0</td>\n",
       "      <td>0.0</td>\n",
       "      <td>0.0</td>\n",
       "      <td>0.0</td>\n",
       "      <td>0.0</td>\n",
       "    </tr>\n",
       "    <tr>\n",
       "      <th>min</th>\n",
       "      <td>0.0</td>\n",
       "      <td>0.0</td>\n",
       "      <td>0.0</td>\n",
       "      <td>0.0</td>\n",
       "      <td>0.0</td>\n",
       "      <td>0.0</td>\n",
       "      <td>0.0</td>\n",
       "      <td>0.0</td>\n",
       "      <td>0.0</td>\n",
       "      <td>0.0</td>\n",
       "      <td>...</td>\n",
       "      <td>0.000000</td>\n",
       "      <td>0.000000</td>\n",
       "      <td>0.000000</td>\n",
       "      <td>0.000000</td>\n",
       "      <td>0.000000</td>\n",
       "      <td>0.0</td>\n",
       "      <td>0.0</td>\n",
       "      <td>0.0</td>\n",
       "      <td>0.0</td>\n",
       "      <td>0.0</td>\n",
       "    </tr>\n",
       "    <tr>\n",
       "      <th>25%</th>\n",
       "      <td>0.0</td>\n",
       "      <td>0.0</td>\n",
       "      <td>0.0</td>\n",
       "      <td>0.0</td>\n",
       "      <td>0.0</td>\n",
       "      <td>0.0</td>\n",
       "      <td>0.0</td>\n",
       "      <td>0.0</td>\n",
       "      <td>0.0</td>\n",
       "      <td>0.0</td>\n",
       "      <td>...</td>\n",
       "      <td>0.000000</td>\n",
       "      <td>0.000000</td>\n",
       "      <td>0.000000</td>\n",
       "      <td>0.000000</td>\n",
       "      <td>0.000000</td>\n",
       "      <td>0.0</td>\n",
       "      <td>0.0</td>\n",
       "      <td>0.0</td>\n",
       "      <td>0.0</td>\n",
       "      <td>0.0</td>\n",
       "    </tr>\n",
       "    <tr>\n",
       "      <th>50%</th>\n",
       "      <td>0.0</td>\n",
       "      <td>0.0</td>\n",
       "      <td>0.0</td>\n",
       "      <td>0.0</td>\n",
       "      <td>0.0</td>\n",
       "      <td>0.0</td>\n",
       "      <td>0.0</td>\n",
       "      <td>0.0</td>\n",
       "      <td>0.0</td>\n",
       "      <td>0.0</td>\n",
       "      <td>...</td>\n",
       "      <td>0.000000</td>\n",
       "      <td>0.000000</td>\n",
       "      <td>0.000000</td>\n",
       "      <td>0.000000</td>\n",
       "      <td>0.000000</td>\n",
       "      <td>0.0</td>\n",
       "      <td>0.0</td>\n",
       "      <td>0.0</td>\n",
       "      <td>0.0</td>\n",
       "      <td>0.0</td>\n",
       "    </tr>\n",
       "    <tr>\n",
       "      <th>75%</th>\n",
       "      <td>0.0</td>\n",
       "      <td>0.0</td>\n",
       "      <td>0.0</td>\n",
       "      <td>0.0</td>\n",
       "      <td>0.0</td>\n",
       "      <td>0.0</td>\n",
       "      <td>0.0</td>\n",
       "      <td>0.0</td>\n",
       "      <td>0.0</td>\n",
       "      <td>0.0</td>\n",
       "      <td>...</td>\n",
       "      <td>0.000000</td>\n",
       "      <td>0.000000</td>\n",
       "      <td>0.000000</td>\n",
       "      <td>0.000000</td>\n",
       "      <td>0.000000</td>\n",
       "      <td>0.0</td>\n",
       "      <td>0.0</td>\n",
       "      <td>0.0</td>\n",
       "      <td>0.0</td>\n",
       "      <td>0.0</td>\n",
       "    </tr>\n",
       "    <tr>\n",
       "      <th>max</th>\n",
       "      <td>0.0</td>\n",
       "      <td>0.0</td>\n",
       "      <td>0.0</td>\n",
       "      <td>0.0</td>\n",
       "      <td>0.0</td>\n",
       "      <td>0.0</td>\n",
       "      <td>0.0</td>\n",
       "      <td>0.0</td>\n",
       "      <td>0.0</td>\n",
       "      <td>0.0</td>\n",
       "      <td>...</td>\n",
       "      <td>253.000000</td>\n",
       "      <td>254.000000</td>\n",
       "      <td>193.000000</td>\n",
       "      <td>187.000000</td>\n",
       "      <td>119.000000</td>\n",
       "      <td>0.0</td>\n",
       "      <td>0.0</td>\n",
       "      <td>0.0</td>\n",
       "      <td>0.0</td>\n",
       "      <td>0.0</td>\n",
       "    </tr>\n",
       "  </tbody>\n",
       "</table>\n",
       "<p>8 rows × 784 columns</p>\n",
       "</div>"
      ],
      "text/plain": [
       "        pixel0   pixel1   pixel2   pixel3   pixel4   pixel5   pixel6   pixel7  \\\n",
       "count  28000.0  28000.0  28000.0  28000.0  28000.0  28000.0  28000.0  28000.0   \n",
       "mean       0.0      0.0      0.0      0.0      0.0      0.0      0.0      0.0   \n",
       "std        0.0      0.0      0.0      0.0      0.0      0.0      0.0      0.0   \n",
       "min        0.0      0.0      0.0      0.0      0.0      0.0      0.0      0.0   \n",
       "25%        0.0      0.0      0.0      0.0      0.0      0.0      0.0      0.0   \n",
       "50%        0.0      0.0      0.0      0.0      0.0      0.0      0.0      0.0   \n",
       "75%        0.0      0.0      0.0      0.0      0.0      0.0      0.0      0.0   \n",
       "max        0.0      0.0      0.0      0.0      0.0      0.0      0.0      0.0   \n",
       "\n",
       "        pixel8   pixel9  ...      pixel774      pixel775      pixel776  \\\n",
       "count  28000.0  28000.0  ...  28000.000000  28000.000000  28000.000000   \n",
       "mean       0.0      0.0  ...      0.164607      0.073214      0.028036   \n",
       "std        0.0      0.0  ...      5.473293      3.616811      1.813602   \n",
       "min        0.0      0.0  ...      0.000000      0.000000      0.000000   \n",
       "25%        0.0      0.0  ...      0.000000      0.000000      0.000000   \n",
       "50%        0.0      0.0  ...      0.000000      0.000000      0.000000   \n",
       "75%        0.0      0.0  ...      0.000000      0.000000      0.000000   \n",
       "max        0.0      0.0  ...    253.000000    254.000000    193.000000   \n",
       "\n",
       "           pixel777      pixel778  pixel779  pixel780  pixel781  pixel782  \\\n",
       "count  28000.000000  28000.000000   28000.0   28000.0   28000.0   28000.0   \n",
       "mean       0.011250      0.006536       0.0       0.0       0.0       0.0   \n",
       "std        1.205211      0.807475       0.0       0.0       0.0       0.0   \n",
       "min        0.000000      0.000000       0.0       0.0       0.0       0.0   \n",
       "25%        0.000000      0.000000       0.0       0.0       0.0       0.0   \n",
       "50%        0.000000      0.000000       0.0       0.0       0.0       0.0   \n",
       "75%        0.000000      0.000000       0.0       0.0       0.0       0.0   \n",
       "max      187.000000    119.000000       0.0       0.0       0.0       0.0   \n",
       "\n",
       "       pixel783  \n",
       "count   28000.0  \n",
       "mean        0.0  \n",
       "std         0.0  \n",
       "min         0.0  \n",
       "25%         0.0  \n",
       "50%         0.0  \n",
       "75%         0.0  \n",
       "max         0.0  \n",
       "\n",
       "[8 rows x 784 columns]"
      ]
     },
     "execution_count": 93,
     "metadata": {},
     "output_type": "execute_result"
    }
   ],
   "source": [
    "df_test.describe()"
   ]
  },
  {
   "cell_type": "code",
   "execution_count": 76,
   "id": "641291f2-e360-4c12-bdb9-9cf0fdb152a4",
   "metadata": {},
   "outputs": [],
   "source": [
    "scaler = MinMaxScaler()\n",
    "X_train = scaler.fit_transform(X_train.astype('float32'))"
   ]
  },
  {
   "cell_type": "code",
   "execution_count": 77,
   "id": "9f7a9bf7-afbd-4782-bf7b-e43e67f094d4",
   "metadata": {},
   "outputs": [
    {
     "data": {
      "text/plain": [
       "(42000, 28, 28, 1)"
      ]
     },
     "execution_count": 77,
     "metadata": {},
     "output_type": "execute_result"
    }
   ],
   "source": [
    "X_train = X_train.reshape(-1, image_size, image_size, 1)\n",
    "X_train.shape"
   ]
  },
  {
   "cell_type": "code",
   "execution_count": 96,
   "id": "ff235994-2043-4445-b783-803cbb302bb0",
   "metadata": {},
   "outputs": [
    {
     "name": "stdout",
     "output_type": "stream",
     "text": [
      "(28000, 28, 28, 1)\n"
     ]
    }
   ],
   "source": [
    "X_test = df_test.values\n",
    "X_test = scaler.fit_transform(X_test.astype('float32'))\n",
    "X_test = X_test.reshape(-1, image_size, image_size, 1)\n",
    "print(X_test.shape)"
   ]
  },
  {
   "cell_type": "code",
   "execution_count": 101,
   "id": "c1e4fa32-c57a-41a4-8ba4-784ac62333cb",
   "metadata": {},
   "outputs": [
    {
     "data": {
      "image/png": "[encoded data removed]",
      "text/plain": [
       "<Figure size 640x480 with 1 Axes>"
      ]
     },
     "metadata": {},
     "output_type": "display_data"
    }
   ],
   "source": [
    "# Desplegamos la imagen del archivo de prueba\n",
    "plt.imshow(df_test.iloc[0,:].values.reshape(image_size, image_size), cmap=plt.cm.gray)  # Assuming grayscale images\n",
    "plt.title(f'Image {image_index} de test')\n",
    "plt.axis('off')\n",
    "plt.show()"
   ]
  },
  {
   "cell_type": "markdown",
   "id": "acf0ed8a-61ad-48c5-9b87-42013513725f",
   "metadata": {},
   "source": [
    "### Red Neuronal sencilla (Simple)"
   ]
  },
  {
   "cell_type": "code",
   "execution_count": 193,
   "id": "b0710332-b87b-4d10-8dae-0a626b052211",
   "metadata": {},
   "outputs": [],
   "source": [
    "modelo_simple = Sequential()\n",
    "modelo_simple.add(layers.Dense(10, activation='softmax', input_shape=(784,)))"
   ]
  },
  {
   "cell_type": "code",
   "execution_count": 194,
   "id": "d39affac-d9e5-4ca3-8415-32b92969c7a8",
   "metadata": {},
   "outputs": [
    {
     "name": "stdout",
     "output_type": "stream",
     "text": [
      "Model: \"sequential_7\"\n",
      "_________________________________________________________________\n",
      " Layer (type)                Output Shape              Param #   \n",
      "=================================================================\n",
      " dense_7 (Dense)             (None, 10)                7850      \n",
      "                                                                 \n",
      "=================================================================\n",
      "Total params: 7850 (30.66 KB)\n",
      "Trainable params: 7850 (30.66 KB)\n",
      "Non-trainable params: 0 (0.00 Byte)\n",
      "_________________________________________________________________\n"
     ]
    }
   ],
   "source": [
    "modelo_simple.compile(optimizer='adam', loss='sparse_categorical_crossentropy', metrics=['accuracy'])\n",
    "modelo_simple.summary()"
   ]
  },
  {
   "cell_type": "code",
   "execution_count": 195,
   "id": "8d37b6ce-0360-4d41-a000-4b91840f1fd3",
   "metadata": {},
   "outputs": [
    {
     "data": {
      "text/plain": [
       "(42000, 784)"
      ]
     },
     "execution_count": 195,
     "metadata": {},
     "output_type": "execute_result"
    }
   ],
   "source": [
    "X_train = df.iloc[:,1:]\n",
    "X_train = scaler.fit_transform(X_train.astype('float32'))\n",
    "X_train = X_train.reshape((X_train.shape[0],-1))\n",
    "X_train.shape"
   ]
  },
  {
   "cell_type": "code",
   "execution_count": 196,
   "id": "994a1aeb-b000-4eb9-94a6-69e1b4b51200",
   "metadata": {},
   "outputs": [
    {
     "data": {
      "text/plain": [
       "(0    1\n",
       " 1    0\n",
       " 2    1\n",
       " 3    4\n",
       " 4    0\n",
       " Name: label, dtype: int64,\n",
       " (42000,))"
      ]
     },
     "execution_count": 196,
     "metadata": {},
     "output_type": "execute_result"
    }
   ],
   "source": [
    "y_train = df.iloc[:,0]\n",
    "y_train.head(), y_train.shape"
   ]
  },
  {
   "cell_type": "code",
   "execution_count": 197,
   "id": "8fbd8996-2d1f-4233-b3c8-4da9ca3a2613",
   "metadata": {},
   "outputs": [
    {
     "name": "stdout",
     "output_type": "stream",
     "text": [
      "Epoch 1/25\n",
      "1050/1050 [==============================] - 2s 1ms/step - loss: 0.5625 - accuracy: 0.8560 - val_loss: 0.3483 - val_accuracy: 0.9075\n",
      "Epoch 2/25\n",
      "1050/1050 [==============================] - 1s 1ms/step - loss: 0.3288 - accuracy: 0.9097 - val_loss: 0.3040 - val_accuracy: 0.9160\n",
      "Epoch 3/25\n",
      "1050/1050 [==============================] - 1s 1ms/step - loss: 0.2966 - accuracy: 0.9174 - val_loss: 0.2908 - val_accuracy: 0.9207\n",
      "Epoch 4/25\n",
      "1050/1050 [==============================] - 1s 1ms/step - loss: 0.2810 - accuracy: 0.9207 - val_loss: 0.2861 - val_accuracy: 0.9202\n",
      "Epoch 5/25\n",
      "1050/1050 [==============================] - 1s 1ms/step - loss: 0.2703 - accuracy: 0.9233 - val_loss: 0.2769 - val_accuracy: 0.9235\n",
      "Epoch 6/25\n",
      "1050/1050 [==============================] - 1s 1ms/step - loss: 0.2631 - accuracy: 0.9257 - val_loss: 0.2732 - val_accuracy: 0.9245\n",
      "Epoch 7/25\n",
      "1050/1050 [==============================] - 1s 1ms/step - loss: 0.2578 - accuracy: 0.9265 - val_loss: 0.2757 - val_accuracy: 0.9246\n",
      "Epoch 8/25\n",
      "1050/1050 [==============================] - 1s 1ms/step - loss: 0.2532 - accuracy: 0.9280 - val_loss: 0.2700 - val_accuracy: 0.9255\n",
      "Epoch 9/25\n",
      "1050/1050 [==============================] - 1s 1ms/step - loss: 0.2492 - accuracy: 0.9289 - val_loss: 0.2694 - val_accuracy: 0.9255\n",
      "Epoch 10/25\n",
      "1050/1050 [==============================] - 1s 1ms/step - loss: 0.2456 - accuracy: 0.9300 - val_loss: 0.2678 - val_accuracy: 0.9273\n",
      "Epoch 11/25\n",
      "1050/1050 [==============================] - 1s 1ms/step - loss: 0.2428 - accuracy: 0.9312 - val_loss: 0.2678 - val_accuracy: 0.9273\n",
      "Epoch 12/25\n",
      "1050/1050 [==============================] - 1s 1ms/step - loss: 0.2407 - accuracy: 0.9310 - val_loss: 0.2689 - val_accuracy: 0.9289\n",
      "Epoch 13/25\n",
      "1050/1050 [==============================] - 1s 1ms/step - loss: 0.2378 - accuracy: 0.9330 - val_loss: 0.2655 - val_accuracy: 0.9273\n",
      "Epoch 14/25\n",
      "1050/1050 [==============================] - 1s 1ms/step - loss: 0.2361 - accuracy: 0.9326 - val_loss: 0.2730 - val_accuracy: 0.9244\n",
      "Epoch 15/25\n",
      "1050/1050 [==============================] - 1s 1ms/step - loss: 0.2343 - accuracy: 0.9332 - val_loss: 0.2684 - val_accuracy: 0.9262\n",
      "Epoch 16/25\n",
      "1050/1050 [==============================] - 1s 1ms/step - loss: 0.2321 - accuracy: 0.9347 - val_loss: 0.2673 - val_accuracy: 0.9270\n",
      "Epoch 17/25\n",
      "1050/1050 [==============================] - 1s 1ms/step - loss: 0.2309 - accuracy: 0.9346 - val_loss: 0.2728 - val_accuracy: 0.9258\n",
      "Epoch 18/25\n",
      "1050/1050 [==============================] - 1s 1ms/step - loss: 0.2293 - accuracy: 0.9342 - val_loss: 0.2668 - val_accuracy: 0.9275\n",
      "Epoch 19/25\n",
      "1050/1050 [==============================] - 1s 1ms/step - loss: 0.2280 - accuracy: 0.9355 - val_loss: 0.2696 - val_accuracy: 0.9255\n",
      "Epoch 20/25\n",
      "1050/1050 [==============================] - 1s 1ms/step - loss: 0.2266 - accuracy: 0.9360 - val_loss: 0.2763 - val_accuracy: 0.9240\n",
      "Epoch 21/25\n",
      "1050/1050 [==============================] - 1s 1ms/step - loss: 0.2253 - accuracy: 0.9347 - val_loss: 0.2695 - val_accuracy: 0.9257\n",
      "Epoch 22/25\n",
      "1050/1050 [==============================] - 1s 1ms/step - loss: 0.2242 - accuracy: 0.9366 - val_loss: 0.2725 - val_accuracy: 0.9251\n",
      "Epoch 23/25\n",
      "1050/1050 [==============================] - 1s 1ms/step - loss: 0.2231 - accuracy: 0.9357 - val_loss: 0.2684 - val_accuracy: 0.9270\n",
      "Epoch 24/25\n",
      "1050/1050 [==============================] - 1s 1ms/step - loss: 0.2223 - accuracy: 0.9367 - val_loss: 0.2678 - val_accuracy: 0.9274\n",
      "Epoch 25/25\n",
      "1050/1050 [==============================] - 1s 1ms/step - loss: 0.2216 - accuracy: 0.9371 - val_loss: 0.2726 - val_accuracy: 0.9274\n"
     ]
    }
   ],
   "source": [
    "history_simple = modelo_simple.fit(X_train, y_train, batch_size=32, verbose=1, validation_split=0.2, epochs=25)"
   ]
  },
  {
   "cell_type": "code",
   "execution_count": 198,
   "id": "4aa4c57d-03a9-4329-9870-81f3dea8aca1",
   "metadata": {},
   "outputs": [],
   "source": [
    "accuracy_simple = history_simple.history['accuracy']\n",
    "val_accuracy_simple = history_simple.history['val_accuracy']\n",
    "loss_simple = history_simple.history['loss']\n",
    "val_loss_simple = history_simple.history['val_loss']\n",
    "epochs_simple = range(len(accuracy_simple))"
   ]
  },
  {
   "cell_type": "code",
   "execution_count": 199,
   "id": "bb537986-68b7-4a65-be8a-24620f9d35ee",
   "metadata": {},
   "outputs": [
    {
     "data": {
      "image/png": "[encoded data removed]",
      "text/plain": [
       "<Figure size 640x480 with 1 Axes>"
      ]
     },
     "metadata": {},
     "output_type": "display_data"
    }
   ],
   "source": [
    "plt.plot(epochs_simple, accuracy_simple, 'b')\n",
    "plt.plot(epochs_simple, val_accuracy_simple, 'r')\n",
    "plt.title('Modelo Neuronal simple accuracy')\n",
    "plt.ylabel('Accuracy')\n",
    "plt.xlabel('Epocas')\n",
    "plt.legend(['Entrenamiento', 'Validacion'], loc='lower right')\n",
    "plt.show()"
   ]
  },
  {
   "cell_type": "code",
   "execution_count": 200,
   "id": "1f9fce0e-93ec-4b86-882c-07b24da7a7d2",
   "metadata": {},
   "outputs": [
    {
     "data": {
      "image/png": "[encoded data removed]",
      "text/plain": [
       "<Figure size 640x480 with 1 Axes>"
      ]
     },
     "metadata": {},
     "output_type": "display_data"
    }
   ],
   "source": [
    "plt.plot(epochs_simple, loss_simple, 'b')\n",
    "plt.plot(epochs_simple, val_loss_simple, 'r')\n",
    "plt.title('Modelo Simple Perdida')\n",
    "plt.ylabel('Cross Enthropy')\n",
    "plt.xlabel('Epocas')\n",
    "plt.legend(['Entrenamiento', 'Validacion'], loc='upper left')\n",
    "plt.show()"
   ]
  },
  {
   "cell_type": "code",
   "execution_count": 201,
   "id": "200d4a04-9a17-4de9-a78d-b08a74f039da",
   "metadata": {},
   "outputs": [
    {
     "data": {
      "text/plain": [
       "{'loss': 0.2216131091117859,\n",
       " 'accuracy': 0.9371131062507629,\n",
       " 'val_loss': 0.27257809042930603,\n",
       " 'val_accuracy': 0.9273809790611267}"
      ]
     },
     "execution_count": 201,
     "metadata": {},
     "output_type": "execute_result"
    }
   ],
   "source": [
    "{key: value[24] for key, value in history_simple.history.items()}"
   ]
  },
  {
   "cell_type": "markdown",
   "id": "a3082475-a029-4fef-891c-4bcd3ee990df",
   "metadata": {},
   "source": [
    "### El Modelo de Simple en su última iteración registró una precisión de 93.71% en la data de entrenamiento y 92.73% en la de validacion"
   ]
  },
  {
   "cell_type": "markdown",
   "id": "5f5fa36e-bee4-46cf-855e-de38d0e5ae07",
   "metadata": {},
   "source": [
    "### Modelo Deep Learning (DL)"
   ]
  },
  {
   "cell_type": "code",
   "execution_count": 78,
   "id": "7c668e7b-d9c7-45ab-93a1-d05b60a19eb6",
   "metadata": {},
   "outputs": [],
   "source": [
    "modelo_dl = Sequential()\n",
    "modelo_dl.add(layers.Conv2D(filters=32, kernel_size=(5,5), padding='same', activation='relu', input_shape=(image_size, image_size, 1)))\n",
    "modelo_dl.add(layers.MaxPool2D())\n",
    "modelo_dl.add(layers.Dropout(0.4))\n",
    "modelo_dl.add(layers.Conv2D(filters=64, kernel_size=(5,5), padding='same', activation='relu'))\n",
    "modelo_dl.add(layers.MaxPool2D())\n",
    "modelo_dl.add(layers.Dropout(0.5))\n",
    "modelo_dl.add(layers.Flatten())\n",
    "modelo_dl.add(layers.Dense(64, activation='relu'))\n",
    "modelo_dl.add(layers.Dropout(0.4))\n",
    "modelo_dl.add(layers.Dense(10, activation='softmax'))"
   ]
  },
  {
   "cell_type": "code",
   "execution_count": 79,
   "id": "7fb7a0cb-c468-4848-b626-113b346f1cff",
   "metadata": {},
   "outputs": [
    {
     "name": "stdout",
     "output_type": "stream",
     "text": [
      "Model: \"sequential_3\"\n",
      "_________________________________________________________________\n",
      " Layer (type)                Output Shape              Param #   \n",
      "=================================================================\n",
      " conv2d_7 (Conv2D)           (None, 28, 28, 32)        832       \n",
      "                                                                 \n",
      " max_pooling2d_4 (MaxPoolin  (None, 14, 14, 32)        0         \n",
      " g2D)                                                            \n",
      "                                                                 \n",
      " dropout_5 (Dropout)         (None, 14, 14, 32)        0         \n",
      "                                                                 \n",
      " conv2d_8 (Conv2D)           (None, 14, 14, 64)        51264     \n",
      "                                                                 \n",
      " max_pooling2d_5 (MaxPoolin  (None, 7, 7, 64)          0         \n",
      " g2D)                                                            \n",
      "                                                                 \n",
      " dropout_6 (Dropout)         (None, 7, 7, 64)          0         \n",
      "                                                                 \n",
      " flatten_2 (Flatten)         (None, 3136)              0         \n",
      "                                                                 \n",
      " dense_2 (Dense)             (None, 64)                200768    \n",
      "                                                                 \n",
      " dropout_7 (Dropout)         (None, 64)                0         \n",
      "                                                                 \n",
      " dense_3 (Dense)             (None, 10)                650       \n",
      "                                                                 \n",
      "=================================================================\n",
      "Total params: 253514 (990.29 KB)\n",
      "Trainable params: 253514 (990.29 KB)\n",
      "Non-trainable params: 0 (0.00 Byte)\n",
      "_________________________________________________________________\n"
     ]
    }
   ],
   "source": [
    "modelo_dl.compile(loss='categorical_crossentropy', optimizer='adam', metrics=['accuracy'])\n",
    "modelo_dl.summary()"
   ]
  },
  {
   "cell_type": "code",
   "execution_count": 80,
   "id": "b783d41b-7976-4189-99ab-5398cd5c72d7",
   "metadata": {},
   "outputs": [
    {
     "data": {
      "text/plain": [
       "(42000, 10)"
      ]
     },
     "execution_count": 80,
     "metadata": {},
     "output_type": "execute_result"
    }
   ],
   "source": [
    "y_train = tf.keras.utils.to_categorical(y_train, 10)\n",
    "y_train.shape"
   ]
  },
  {
   "cell_type": "code",
   "execution_count": 82,
   "id": "60462ebd-6e78-4354-b102-711c95510171",
   "metadata": {},
   "outputs": [],
   "source": [
    "early_stopping = EarlyStopping(monitor='val_loss',\n",
    "          patience=10,\n",
    "          verbose=1,\n",
    "          mode='min')\n",
    "mcp_save = ModelCheckpoint('reconocimiento_digito.10e',\n",
    "         save_best_only=True,\n",
    "         monitor='val_loss',\n",
    "         verbose=1,\n",
    "         mode='auto')"
   ]
  },
  {
   "cell_type": "code",
   "execution_count": 84,
   "id": "c5e510f8-4b43-478d-adc5-54f6b382fc1f",
   "metadata": {},
   "outputs": [
    {
     "name": "stdout",
     "output_type": "stream",
     "text": [
      "Epoch 1/100\n",
      "1049/1050 [============================>.] - ETA: 0s - loss: 0.3718 - accuracy: 0.8825\n",
      "Epoch 1: val_loss improved from inf to 0.07884, saving model to reconocimiento_digito.10e\n",
      "INFO:tensorflow:Assets written to: reconocimiento_digito.10e\\assets\n"
     ]
    },
    {
     "name": "stderr",
     "output_type": "stream",
     "text": [
      "INFO:tensorflow:Assets written to: reconocimiento_digito.10e\\assets\n"
     ]
    },
    {
     "name": "stdout",
     "output_type": "stream",
     "text": [
      "1050/1050 [==============================] - 32s 30ms/step - loss: 0.3715 - accuracy: 0.8826 - val_loss: 0.0788 - val_accuracy: 0.9755\n",
      "Epoch 2/100\n",
      "1049/1050 [============================>.] - ETA: 0s - loss: 0.1383 - accuracy: 0.9588\n",
      "Epoch 2: val_loss improved from 0.07884 to 0.05255, saving model to reconocimiento_digito.10e\n",
      "INFO:tensorflow:Assets written to: reconocimiento_digito.10e\\assets\n"
     ]
    },
    {
     "name": "stderr",
     "output_type": "stream",
     "text": [
      "INFO:tensorflow:Assets written to: reconocimiento_digito.10e\\assets\n"
     ]
    },
    {
     "name": "stdout",
     "output_type": "stream",
     "text": [
      "1050/1050 [==============================] - 32s 30ms/step - loss: 0.1382 - accuracy: 0.9588 - val_loss: 0.0525 - val_accuracy: 0.9823\n",
      "Epoch 3/100\n",
      "1050/1050 [==============================] - ETA: 0s - loss: 0.1063 - accuracy: 0.9684\n",
      "Epoch 3: val_loss improved from 0.05255 to 0.04343, saving model to reconocimiento_digito.10e\n",
      "INFO:tensorflow:Assets written to: reconocimiento_digito.10e\\assets\n"
     ]
    },
    {
     "name": "stderr",
     "output_type": "stream",
     "text": [
      "INFO:tensorflow:Assets written to: reconocimiento_digito.10e\\assets\n"
     ]
    },
    {
     "name": "stdout",
     "output_type": "stream",
     "text": [
      "1050/1050 [==============================] - 32s 30ms/step - loss: 0.1063 - accuracy: 0.9684 - val_loss: 0.0434 - val_accuracy: 0.9870\n",
      "Epoch 4/100\n",
      "1050/1050 [==============================] - ETA: 0s - loss: 0.0935 - accuracy: 0.9719\n",
      "Epoch 4: val_loss improved from 0.04343 to 0.03733, saving model to reconocimiento_digito.10e\n",
      "INFO:tensorflow:Assets written to: reconocimiento_digito.10e\\assets\n"
     ]
    },
    {
     "name": "stderr",
     "output_type": "stream",
     "text": [
      "INFO:tensorflow:Assets written to: reconocimiento_digito.10e\\assets\n"
     ]
    },
    {
     "name": "stdout",
     "output_type": "stream",
     "text": [
      "1050/1050 [==============================] - 32s 30ms/step - loss: 0.0935 - accuracy: 0.9719 - val_loss: 0.0373 - val_accuracy: 0.9889\n",
      "Epoch 5/100\n",
      "1049/1050 [============================>.] - ETA: 0s - loss: 0.0866 - accuracy: 0.9746\n",
      "Epoch 5: val_loss did not improve from 0.03733\n",
      "1050/1050 [==============================] - 31s 29ms/step - loss: 0.0868 - accuracy: 0.9746 - val_loss: 0.0397 - val_accuracy: 0.9874\n",
      "Epoch 6/100\n",
      "1049/1050 [============================>.] - ETA: 0s - loss: 0.0768 - accuracy: 0.9765\n",
      "Epoch 6: val_loss did not improve from 0.03733\n",
      "1050/1050 [==============================] - 30s 29ms/step - loss: 0.0767 - accuracy: 0.9765 - val_loss: 0.0417 - val_accuracy: 0.9877\n",
      "Epoch 7/100\n",
      "1050/1050 [==============================] - ETA: 0s - loss: 0.0707 - accuracy: 0.9779\n",
      "Epoch 7: val_loss did not improve from 0.03733\n",
      "1050/1050 [==============================] - 31s 29ms/step - loss: 0.0707 - accuracy: 0.9779 - val_loss: 0.0399 - val_accuracy: 0.9879\n",
      "Epoch 8/100\n",
      "1049/1050 [============================>.] - ETA: 0s - loss: 0.0658 - accuracy: 0.9800\n",
      "Epoch 8: val_loss improved from 0.03733 to 0.03217, saving model to reconocimiento_digito.10e\n",
      "INFO:tensorflow:Assets written to: reconocimiento_digito.10e\\assets\n"
     ]
    },
    {
     "name": "stderr",
     "output_type": "stream",
     "text": [
      "INFO:tensorflow:Assets written to: reconocimiento_digito.10e\\assets\n"
     ]
    },
    {
     "name": "stdout",
     "output_type": "stream",
     "text": [
      "1050/1050 [==============================] - 31s 29ms/step - loss: 0.0657 - accuracy: 0.9800 - val_loss: 0.0322 - val_accuracy: 0.9901\n",
      "Epoch 9/100\n",
      "1049/1050 [============================>.] - ETA: 0s - loss: 0.0609 - accuracy: 0.9813\n",
      "Epoch 9: val_loss did not improve from 0.03217\n",
      "1050/1050 [==============================] - 30s 29ms/step - loss: 0.0610 - accuracy: 0.9812 - val_loss: 0.0375 - val_accuracy: 0.9889\n",
      "Epoch 10/100\n",
      "1049/1050 [============================>.] - ETA: 0s - loss: 0.0588 - accuracy: 0.9821\n",
      "Epoch 10: val_loss improved from 0.03217 to 0.03165, saving model to reconocimiento_digito.10e\n",
      "INFO:tensorflow:Assets written to: reconocimiento_digito.10e\\assets\n"
     ]
    },
    {
     "name": "stderr",
     "output_type": "stream",
     "text": [
      "INFO:tensorflow:Assets written to: reconocimiento_digito.10e\\assets\n"
     ]
    },
    {
     "name": "stdout",
     "output_type": "stream",
     "text": [
      "1050/1050 [==============================] - 34s 32ms/step - loss: 0.0590 - accuracy: 0.9821 - val_loss: 0.0317 - val_accuracy: 0.9911\n",
      "Epoch 11/100\n",
      "1050/1050 [==============================] - ETA: 0s - loss: 0.0591 - accuracy: 0.9820\n",
      "Epoch 11: val_loss did not improve from 0.03165\n",
      "1050/1050 [==============================] - 32s 31ms/step - loss: 0.0591 - accuracy: 0.9820 - val_loss: 0.0322 - val_accuracy: 0.9911\n",
      "Epoch 12/100\n",
      "1049/1050 [============================>.] - ETA: 0s - loss: 0.0559 - accuracy: 0.9838\n",
      "Epoch 12: val_loss improved from 0.03165 to 0.02924, saving model to reconocimiento_digito.10e\n",
      "INFO:tensorflow:Assets written to: reconocimiento_digito.10e\\assets\n"
     ]
    },
    {
     "name": "stderr",
     "output_type": "stream",
     "text": [
      "INFO:tensorflow:Assets written to: reconocimiento_digito.10e\\assets\n"
     ]
    },
    {
     "name": "stdout",
     "output_type": "stream",
     "text": [
      "1050/1050 [==============================] - 34s 32ms/step - loss: 0.0558 - accuracy: 0.9838 - val_loss: 0.0292 - val_accuracy: 0.9921\n",
      "Epoch 13/100\n",
      "1049/1050 [============================>.] - ETA: 0s - loss: 0.0532 - accuracy: 0.9838\n",
      "Epoch 13: val_loss did not improve from 0.02924\n",
      "1050/1050 [==============================] - 31s 29ms/step - loss: 0.0532 - accuracy: 0.9838 - val_loss: 0.0417 - val_accuracy: 0.9879\n",
      "Epoch 14/100\n",
      "1049/1050 [============================>.] - ETA: 0s - loss: 0.0517 - accuracy: 0.9850\n",
      "Epoch 14: val_loss did not improve from 0.02924\n",
      "1050/1050 [==============================] - 31s 29ms/step - loss: 0.0517 - accuracy: 0.9850 - val_loss: 0.0300 - val_accuracy: 0.9917\n",
      "Epoch 15/100\n",
      "1049/1050 [============================>.] - ETA: 0s - loss: 0.0542 - accuracy: 0.9839\n",
      "Epoch 15: val_loss improved from 0.02924 to 0.02554, saving model to reconocimiento_digito.10e\n",
      "INFO:tensorflow:Assets written to: reconocimiento_digito.10e\\assets\n"
     ]
    },
    {
     "name": "stderr",
     "output_type": "stream",
     "text": [
      "INFO:tensorflow:Assets written to: reconocimiento_digito.10e\\assets\n"
     ]
    },
    {
     "name": "stdout",
     "output_type": "stream",
     "text": [
      "1050/1050 [==============================] - 32s 31ms/step - loss: 0.0542 - accuracy: 0.9839 - val_loss: 0.0255 - val_accuracy: 0.9936\n",
      "Epoch 16/100\n",
      "1049/1050 [============================>.] - ETA: 0s - loss: 0.0453 - accuracy: 0.9861\n",
      "Epoch 16: val_loss did not improve from 0.02554\n",
      "1050/1050 [==============================] - 31s 30ms/step - loss: 0.0453 - accuracy: 0.9861 - val_loss: 0.0285 - val_accuracy: 0.9915\n",
      "Epoch 17/100\n",
      "1049/1050 [============================>.] - ETA: 0s - loss: 0.0475 - accuracy: 0.9856\n",
      "Epoch 17: val_loss did not improve from 0.02554\n",
      "1050/1050 [==============================] - 31s 30ms/step - loss: 0.0475 - accuracy: 0.9856 - val_loss: 0.0310 - val_accuracy: 0.9925\n",
      "Epoch 18/100\n",
      "1050/1050 [==============================] - ETA: 0s - loss: 0.0487 - accuracy: 0.9854\n",
      "Epoch 18: val_loss did not improve from 0.02554\n",
      "1050/1050 [==============================] - 31s 30ms/step - loss: 0.0487 - accuracy: 0.9854 - val_loss: 0.0278 - val_accuracy: 0.9929\n",
      "Epoch 19/100\n",
      "1049/1050 [============================>.] - ETA: 0s - loss: 0.0415 - accuracy: 0.9869\n",
      "Epoch 19: val_loss did not improve from 0.02554\n",
      "1050/1050 [==============================] - 32s 30ms/step - loss: 0.0415 - accuracy: 0.9869 - val_loss: 0.0296 - val_accuracy: 0.9923\n",
      "Epoch 20/100\n",
      "1049/1050 [============================>.] - ETA: 0s - loss: 0.0466 - accuracy: 0.9857\n",
      "Epoch 20: val_loss did not improve from 0.02554\n",
      "1050/1050 [==============================] - 31s 30ms/step - loss: 0.0466 - accuracy: 0.9857 - val_loss: 0.0290 - val_accuracy: 0.9925\n",
      "Epoch 21/100\n",
      "1050/1050 [==============================] - ETA: 0s - loss: 0.0432 - accuracy: 0.9869\n",
      "Epoch 21: val_loss did not improve from 0.02554\n",
      "1050/1050 [==============================] - 31s 29ms/step - loss: 0.0432 - accuracy: 0.9869 - val_loss: 0.0309 - val_accuracy: 0.9918\n",
      "Epoch 22/100\n",
      "1049/1050 [============================>.] - ETA: 0s - loss: 0.0402 - accuracy: 0.9879\n",
      "Epoch 22: val_loss did not improve from 0.02554\n",
      "1050/1050 [==============================] - 32s 30ms/step - loss: 0.0403 - accuracy: 0.9879 - val_loss: 0.0267 - val_accuracy: 0.9929\n",
      "Epoch 23/100\n",
      "1050/1050 [==============================] - ETA: 0s - loss: 0.0370 - accuracy: 0.9885\n",
      "Epoch 23: val_loss did not improve from 0.02554\n",
      "1050/1050 [==============================] - 37s 35ms/step - loss: 0.0370 - accuracy: 0.9885 - val_loss: 0.0325 - val_accuracy: 0.9923\n",
      "Epoch 24/100\n",
      "1050/1050 [==============================] - ETA: 0s - loss: 0.0428 - accuracy: 0.9864\n",
      "Epoch 24: val_loss did not improve from 0.02554\n",
      "1050/1050 [==============================] - 56s 53ms/step - loss: 0.0428 - accuracy: 0.9864 - val_loss: 0.0328 - val_accuracy: 0.9923\n",
      "Epoch 25/100\n",
      "1049/1050 [============================>.] - ETA: 0s - loss: 0.0387 - accuracy: 0.9883\n",
      "Epoch 25: val_loss did not improve from 0.02554\n",
      "1050/1050 [==============================] - 46s 44ms/step - loss: 0.0387 - accuracy: 0.9883 - val_loss: 0.0311 - val_accuracy: 0.9923\n",
      "Epoch 25: early stopping\n"
     ]
    }
   ],
   "source": [
    "history_dl = modelo_dl.fit(X_train,\n",
    "                    y_train, \n",
    "                    epochs=100, \n",
    "                    batch_size=32, \n",
    "                    verbose=1, \n",
    "                    validation_split=0.2,\n",
    "                    callbacks=[early_stopping, mcp_save])"
   ]
  },
  {
   "cell_type": "code",
   "execution_count": 87,
   "id": "997dee2c-22bf-4877-b434-5ae9dc8b453b",
   "metadata": {},
   "outputs": [],
   "source": [
    "accuracy_dl = history_dl.history['accuracy']\n",
    "val_accuracy_dl = history_dl.history['val_accuracy']\n",
    "loss_dl = history_dl.history['loss']\n",
    "val_loss_dl = history_dl.history['val_loss']\n",
    "epochs_dl = range(len(accuracy_dl)) # el largo del modelo depende del backstop"
   ]
  },
  {
   "cell_type": "code",
   "execution_count": 88,
   "id": "660ead3f-b556-46d1-916e-0424c4fe8c4e",
   "metadata": {},
   "outputs": [
    {
     "data": {
      "image/png": "[encoded data removed]",
      "text/plain": [
       "<Figure size 640x480 with 1 Axes>"
      ]
     },
     "metadata": {},
     "output_type": "display_data"
    }
   ],
   "source": [
    "plt.plot(epochs_dl, accuracy_dl, 'b')\n",
    "plt.plot(epochs_dl, val_accuracy_dl, 'r')\n",
    "plt.title('Modelo Deep Learning accuracy')\n",
    "plt.ylabel('Accuracy')\n",
    "plt.xlabel('Epocas')\n",
    "plt.legend(['Entrenamiento', 'Validacion'], loc='upper left')\n",
    "plt.show()"
   ]
  },
  {
   "cell_type": "code",
   "execution_count": 89,
   "id": "1002be79-c0b3-4f9d-a746-acb53b04f569",
   "metadata": {},
   "outputs": [
    {
     "data": {
      "image/png": "[encoded data removed]",
      "text/plain": [
       "<Figure size 640x480 with 1 Axes>"
      ]
     },
     "metadata": {},
     "output_type": "display_data"
    }
   ],
   "source": [
    "plt.plot(epochs_dl, loss_dl, 'b')\n",
    "plt.plot(epochs_dl, val_loss_dl, 'r')\n",
    "plt.title('Modelo Deep Perdida')\n",
    "plt.ylabel('Cross Enthropy')\n",
    "plt.xlabel('Epocas')\n",
    "plt.legend(['Entrenamiento', 'Validacion'], loc='upper left')\n",
    "plt.show()"
   ]
  },
  {
   "cell_type": "code",
   "execution_count": 158,
   "id": "a7baebee-f16f-43fd-a3e1-148f9713448a",
   "metadata": {},
   "outputs": [
    {
     "data": {
      "text/plain": [
       "{'loss': 0.05417026951909065,\n",
       " 'accuracy': 0.9838988184928894,\n",
       " 'val_loss': 0.025535594671964645,\n",
       " 'val_accuracy': 0.993571400642395}"
      ]
     },
     "execution_count": 158,
     "metadata": {},
     "output_type": "execute_result"
    }
   ],
   "source": [
    "{key: value[14] for key, value in history_dl.history.items()}"
   ]
  },
  {
   "cell_type": "markdown",
   "id": "ca22ff29-772f-4d38-b876-59a8f4718b19",
   "metadata": {},
   "source": [
    "### El Modelo de Deep Learning en su 15ava iteración registró una precisión de 98.39% en la data de entrenamiento y 99.36% en la de validacion"
   ]
  },
  {
   "cell_type": "code",
   "execution_count": 102,
   "id": "4167f41d-c4a9-4de0-91d8-44ebd62af819",
   "metadata": {},
   "outputs": [
    {
     "name": "stdout",
     "output_type": "stream",
     "text": [
      "875/875 [==============================] - 5s 6ms/step\n"
     ]
    },
    {
     "data": {
      "text/plain": [
       "array([[8.58300434e-15, 1.02358025e-10, 1.00000000e+00, ...,\n",
       "        1.68366973e-10, 2.69860393e-12, 9.90066531e-16],\n",
       "       [9.99999046e-01, 1.59090813e-11, 6.72892631e-10, ...,\n",
       "        1.37302036e-09, 7.45150430e-08, 3.81841332e-08],\n",
       "       [9.00943469e-12, 3.61841390e-11, 8.40777392e-10, ...,\n",
       "        2.22686776e-08, 4.55612841e-04, 9.99429882e-01],\n",
       "       ...,\n",
       "       [4.24106907e-25, 9.61381998e-17, 9.62890445e-17, ...,\n",
       "        2.07920608e-13, 3.54281058e-13, 1.76705113e-13],\n",
       "       [2.95661690e-10, 1.85560629e-11, 8.42465403e-11, ...,\n",
       "        2.22775179e-05, 4.16726031e-08, 9.99965310e-01],\n",
       "       [2.95804471e-14, 1.75323228e-10, 1.00000000e+00, ...,\n",
       "        8.14584622e-10, 1.77275569e-10, 6.77357298e-15]], dtype=float32)"
      ]
     },
     "execution_count": 102,
     "metadata": {},
     "output_type": "execute_result"
    }
   ],
   "source": [
    "modelo_final_dl = load_model('reconocimiento_digito.10e')\n",
    "y_pred_dl = modelo_final_dl.predict(X_test)"
   ]
  },
  {
   "cell_type": "code",
   "execution_count": 126,
   "id": "362f9e4d-ee65-425c-a90f-dd08edcb2417",
   "metadata": {},
   "outputs": [
    {
     "data": {
      "text/plain": [
       "array([0., 0., 1., 0., 0., 0., 0., 0., 0., 0.], dtype=float32)"
      ]
     },
     "execution_count": 126,
     "metadata": {},
     "output_type": "execute_result"
    }
   ],
   "source": [
    "y_pred_dl[0].round(2)"
   ]
  },
  {
   "cell_type": "code",
   "execution_count": 153,
   "id": "afea0a53-4e48-4960-b530-f4b1d57eb152",
   "metadata": {},
   "outputs": [
    {
     "name": "stdout",
     "output_type": "stream",
     "text": [
      "mejor estimacion\n",
      "Imagen 1:\n",
      "[0. 0. 1. 0. 0. 0. 0. 0. 0. 0.]\n",
      "Imagen 2:\n",
      "[1. 0. 0. 0. 0. 0. 0. 0. 0. 0.]\n",
      "Imagen 3:\n",
      "[0. 0. 0. 0. 0. 0. 0. 0. 0. 1.]\n",
      "Imagen 4:\n",
      "[0.15 0.   0.   0.   0.   0.   0.   0.   0.   0.84]\n",
      "Imagen 5:\n",
      "[0. 0. 0. 1. 0. 0. 0. 0. 0. 0.]\n"
     ]
    }
   ],
   "source": [
    "print('mejor estimacion')\n",
    "for i in range(5):\n",
    "    print(f\"Imagen {i + 1}:\")\n",
    "    print(np.round(y_pred_dl, 2)[i])"
   ]
  },
  {
   "cell_type": "code",
   "execution_count": 147,
   "id": "79729d73-4bf9-4c50-bf6a-c559aa2fd9cd",
   "metadata": {},
   "outputs": [
    {
     "data": {
      "image/png": "[encoded data removed]",
      "text/plain": [
       "<Figure size 1400x600 with 32 Axes>"
      ]
     },
     "metadata": {},
     "output_type": "display_data"
    }
   ],
   "source": [
    "plt.figure(figsize=(14, 6))\n",
    "for i in range(32):\n",
    "    plt.subplot(4,8, i+1)\n",
    "    plt.imshow(X_test[i].reshape(28, 28), cmap=plt.cm.gray)\n",
    "    plt.title(y_pred_dl[i].argmax())\n",
    "    plt.xticks([])\n",
    "    plt.yticks([])\n",
    "plt.subplots_adjust(top=0.9)\n",
    "plt.suptitle(\"Primeros 32 digitos\", fontsize=16)\n",
    "plt.show()"
   ]
  },
  {
   "cell_type": "code",
   "execution_count": 146,
   "id": "6e5c514f-a188-43b6-9b9a-d5bb674eb497",
   "metadata": {},
   "outputs": [
    {
     "data": {
      "image/png": "[encoded data removed]",
      "text/plain": [
       "<Figure size 1400x600 with 32 Axes>"
      ]
     },
     "metadata": {},
     "output_type": "display_data"
    }
   ],
   "source": [
    "plt.figure(figsize=(14, 6))\n",
    "for i in range(27968,28000):\n",
    "    plt.subplot(4,8, i-27967)\n",
    "    plt.imshow(X_test[i].reshape(28, 28), cmap=plt.cm.gray)\n",
    "    plt.title(y_pred_dl[i].argmax())\n",
    "    plt.xticks([])\n",
    "    plt.yticks([])\n",
    "plt.subplots_adjust(top=0.9)\n",
    "plt.suptitle(\"Últimos 32 digitos\", fontsize=16)\n",
    "plt.show()"
   ]
  },
  {
   "cell_type": "markdown",
   "id": "d5b945e6-af9a-44e1-a1c3-573a3dcf9a70",
   "metadata": {},
   "source": [
    "El modelo de red neuronal de aprendizaje profundo tiene esta arquitectura:\r\n",
    "\r\n",
    "1. **Capa de entrada**:\r\n",
    "   - Forma entde rarad(28,1)\n",
    "   -  - Esto indica que la red espera imágenes de entratamanoman  (28xze` píxeles con un único canal (escala de grises).\r\n",
    "\r\n",
    "2. **Capa de Convolución (1)**:\r\n",
    "   - Número de filtros: 32\r\n",
    "   - Tamaño del kernel: (5, 5)\r\n",
    "   - Relleno ('same'): Esto significa que las dimensiones espaciales del mapa de características de salida serán las mismas que las de Para garantizar que la salida tenga las mismas dimensiones espaciales que la entrada (28x28 en este caso), se puede agregar relleno a la imagen de entrada. El relleno implica agregar filas y columnas adicionales de ceros alrededor de la imagen de entrada. En este escenario, el mapa de características de salida tendrá las mismas dimensiones espaciales que la entrada, pero los valores en los bordes de la salida pueden verse influ.\n",
    "ar Unit)\r\n",
    "\r\n",
    "3. **Capa de MaxPooling (1)**:\r\n",
    "   - Se utiliza el tamaño de agrupación predeterminado de (2, 2), lo que reduce a la mitad las dimensiones espaciales del mapa de características.\r\n",
    "\r\n",
    "4. **Capa de Dropout (1)**:\r\n",
    "   - Tasa de abandono: 0.4 - Esta capa ayuda a prevenir el sobreajuste al establecer aleatoriamente una fracción de las unidades de entrada en 0 durante el entrenamiento.\r\n",
    "\r\n",
    "5. **Capa de Convolución (2)**:\r\n",
    "   - Número de filtros: 64\r\n",
    "   - Tamaño del kernel: (5, 5)\r\n",
    "   - Relleno ('same')\r\n",
    "   - Función de activación: ReLU\r\n",
    "\r\n",
    "6. **Capa de MaxPooling (2)**:\r\n",
    "   - Tamaño de agrupación predeterminado de (2, 2).\r\n",
    "\r\n",
    "7. **Capa de Dropout (2)**:\r\n",
    "   - Tasa de abandono: 0.5\r\n",
    "\r\n",
    "8. **Capa de Aplanamiento (Flatten)**:\r\n",
    "   - Esta capa aplanará el mapa de características 2D de la capa anterior en un vector 1D. Prepara los datos para las capas totalmente conectadas.\r\n",
    "\r\n",
    "9. **Capa Densa (Totalmente Conectada) (1)**:\r\n",
    "   - Número de neuronas: 64\r\n",
    "   - Función de activación: ReLU\r\n",
    "   - Tasa de abandono: 0.4\r\n",
    "\r\n",
    "10. **Capa Densa (Totalmente Conectada) (2 - Capa de Salida)**:\r\n",
    "    - Número de neuronas: 10 - Esto corresponde a las 10 clases posibles (dígitos del 0 al 9).\r\n",
    "    - Función de activación: Softmax - Se utiliza para la clasificación multiclase y produce probabilidades de clase.\r\n",
    "\r\n",
    "En resumen, este modelo consta de dos capas de convolución con capas de max-pooling y capas de dropout en el medio para reducir el sobreajuste. Después de aplanar los mapas de características, hay dos capas totalmente conectadas, nuevamente con capas de dropout para regularización. La capa de salida final utiliza la activación softmaxmodelo al reducir el riesgo de sobreajuste."
   ]
  },
  {
   "cell_type": "markdown",
   "id": "46459eb3-713a-420b-aaad-9e2168ee1b87",
   "metadata": {},
   "source": [
    "## Reconocimiento por vecino más cercano"
   ]
  },
  {
   "cell_type": "code",
   "execution_count": 222,
   "id": "2a3d8876-34f7-45c1-a667-7b5361bccd27",
   "metadata": {},
   "outputs": [],
   "source": [
    "k = 3\n",
    "knn = KNeighborsClassifier(n_neighbors=k)"
   ]
  },
  {
   "cell_type": "code",
   "execution_count": 223,
   "id": "f8635bd6-6aa9-4503-aa54-786f4f70b2fc",
   "metadata": {},
   "outputs": [],
   "source": [
    "X_train = df.iloc[:,1:]\n",
    "X_train = scaler.fit_transform(X_train.astype('float32'))\n",
    "X_train = X_train.reshape((X_train.shape[0],-1))\n",
    "y_train = df.iloc[:,0]\n",
    "X_train, X_test, y_train, y_test = train_test_split(X_train, y_train, test_size=0.2, random_state=42)"
   ]
  },
  {
   "cell_type": "code",
   "execution_count": 225,
   "id": "6b031085-79ce-4a88-b7e6-3192b2096e2a",
   "metadata": {},
   "outputs": [
    {
     "name": "stdout",
     "output_type": "stream",
     "text": [
      "Accuracy: 96.67%\n"
     ]
    }
   ],
   "source": [
    "knn.fit(X_train, y_train)\n",
    "y_pred = knn.predict(X_test)\n",
    "\n",
    "accuracy_knn = np.mean(y_pred == y_test)\n",
    "print(f'Accuracy: {accuracy_knn * 100:.2f}%')"
   ]
  },
  {
   "cell_type": "markdown",
   "id": "4aad9143-cafc-4ce2-b69a-64a2d0ac892b",
   "metadata": {},
   "source": [
    "### El Modelo de ML por KNN registró una precisión de 96.67%"
   ]
  }
 ],
 "metadata": {
  "kernelspec": {
   "display_name": "Python 3 (ipykernel)",
   "language": "python",
   "name": "python3"
  },
  "language_info": {
   "codemirror_mode": {
    "name": "ipython",
    "version": 3
   },
   "file_extension": ".py",
   "mimetype": "text/x-python",
   "name": "python",
   "nbconvert_exporter": "python",
   "pygments_lexer": "ipython3",
   "version": "3.11.1"
  }
 },
 "nbformat": 4,
 "nbformat_minor": 5
}
